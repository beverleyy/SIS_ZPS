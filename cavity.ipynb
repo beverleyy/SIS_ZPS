{
 "cells": [
  {
   "cell_type": "markdown",
   "id": "64d7b325",
   "metadata": {},
   "source": [
    "# Lid-Driven Cavity\n",
    "\n",
    "This problem involves fluid in a rectangular cavity with uniform velocity at the top."
   ]
  },
  {
   "cell_type": "code",
   "execution_count": 1,
   "id": "53c5b97e",
   "metadata": {},
   "outputs": [],
   "source": [
    "## Import libraries\n",
    "global np\n",
    "import numpy as np\n",
    "\n",
    "from matplotlib import pyplot as plt\n",
    "from matplotlib import animation\n",
    "from matplotlib import cm\n",
    "\n",
    "## Import functions\n",
    "from solvers import solve_cavity"
   ]
  },
  {
   "cell_type": "markdown",
   "id": "923ba988",
   "metadata": {},
   "source": [
    "## Problem setup\n",
    "\n",
    "### Physical definition"
   ]
  },
  {
   "cell_type": "code",
   "execution_count": 2,
   "id": "26493841",
   "metadata": {},
   "outputs": [
    {
     "name": "stdout",
     "output_type": "stream",
     "text": [
      "Horizontal boundaries: 0, 1\n",
      "Vertical boundaries: 0, 1\n"
     ]
    }
   ],
   "source": [
    "xmin = 0\n",
    "xmax = 1\n",
    "ymin = 0\n",
    "ymax = 1\n",
    "\n",
    "print(\"Horizontal boundaries: \"+str(xmin)+\", \"+str(xmax))\n",
    "print(\"Vertical boundaries: \"+str(ymin)+\", \"+str(ymax))"
   ]
  },
  {
   "cell_type": "markdown",
   "id": "1d1d24fd",
   "metadata": {},
   "source": [
    "### Discretization"
   ]
  },
  {
   "cell_type": "code",
   "execution_count": 3,
   "id": "86a84bee",
   "metadata": {},
   "outputs": [
    {
     "name": "stdout",
     "output_type": "stream",
     "text": [
      "Number of horizontal grid points = 41\n",
      "Number of vertical grid points = 41\n"
     ]
    }
   ],
   "source": [
    "nx = 41\n",
    "ny = 41\n",
    "\n",
    "print(\"Number of horizontal grid points = \"+str(nx))\n",
    "print(\"Number of vertical grid points = \"+str(ny))"
   ]
  },
  {
   "cell_type": "code",
   "execution_count": 4,
   "id": "f3c57828",
   "metadata": {},
   "outputs": [
    {
     "name": "stdout",
     "output_type": "stream",
     "text": [
      "dx=0.025\n",
      "dy=0.025\n",
      "Total number of cells = 1600\n"
     ]
    },
    {
     "data": {
      "image/png": "[encoded data removed]",
      "text/plain": [
       "<Figure size 640x480 with 1 Axes>"
      ]
     },
     "metadata": {},
     "output_type": "display_data"
    }
   ],
   "source": [
    "dx = (xmax-xmin)/(nx-1)\n",
    "dy = (ymax-ymin)/(ny-1)\n",
    "\n",
    "x = np.linspace(xmin,xmax,nx)\n",
    "y = np.linspace(ymin,ymax,ny)\n",
    "X,Y = np.meshgrid(x,y)\n",
    "\n",
    "fig = plt.figure(dpi=100)\n",
    "ax = fig.add_axes([0, 0, 1, 1],aspect='equal')\n",
    "ax.pcolor(X, Y, np.ones_like(Y), facecolor='none', edgecolor='k')\n",
    "\n",
    "plt.xlabel('X');\n",
    "plt.ylabel('Y');\n",
    "\n",
    "count = (nx-1)*(ny-1)\n",
    "\n",
    "print(f\"dx={dx}\")\n",
    "print(f\"dy={dy}\")\n",
    "print(\"Total number of cells = \"+str(count))"
   ]
  },
  {
   "cell_type": "markdown",
   "id": "95110401",
   "metadata": {},
   "source": [
    "### Time"
   ]
  },
  {
   "cell_type": "code",
   "execution_count": 11,
   "id": "bcb94cc6",
   "metadata": {},
   "outputs": [
    {
     "name": "stdout",
     "output_type": "stream",
     "text": [
      "Total flow time: 1.0 seconds\n"
     ]
    }
   ],
   "source": [
    "#number of timesteps\n",
    "n_time = 10000\n",
    "dt = 0.0001\n",
    "total_time = n_time*dt\n",
    "\n",
    "print(\"Total flow time: \"+str(total_time)+\" seconds\")\n",
    "\n",
    "#number of iteration per timestep\n",
    "nit = 20\n",
    "\n",
    "#save data every n_save timesteps\n",
    "n_save = 100"
   ]
  },
  {
   "cell_type": "markdown",
   "id": "72eeefcd",
   "metadata": {},
   "source": [
    "## Fluid properties"
   ]
  },
  {
   "cell_type": "code",
   "execution_count": 12,
   "id": "bdf052bc",
   "metadata": {},
   "outputs": [
    {
     "name": "stdout",
     "output_type": "stream",
     "text": [
      "Lid velocity = 10 m/s\n",
      "Density = 1 kg/m3\n",
      "Viscosity = 0.1 kg/ms\n"
     ]
    }
   ],
   "source": [
    "rho = 1   #density\n",
    "nu = 0.1  #kinematic viscosity\n",
    "\n",
    "u_lid = 10 #lid velocity\n",
    "\n",
    "print(\"Lid velocity = \"+str(u_lid)+\" m/s\")\n",
    "print(\"Density = \"+str(rho)+\" kg/m3\")\n",
    "print(\"Viscosity = \"+str(nu)+\" kg/ms\")"
   ]
  },
  {
   "cell_type": "markdown",
   "id": "8e741f5f",
   "metadata": {},
   "source": [
    "## Initialization"
   ]
  },
  {
   "cell_type": "code",
   "execution_count": 13,
   "id": "58c3e6cf",
   "metadata": {},
   "outputs": [
    {
     "name": "stdout",
     "output_type": "stream",
     "text": [
      "Solver initialized.\n"
     ]
    }
   ],
   "source": [
    "u = np.zeros((ny,nx))\n",
    "v = np.zeros((ny,nx))\n",
    "p = np.zeros((ny,nx))\n",
    "b = np.zeros((ny,nx))\n",
    "\n",
    "print(\"Solver initialized.\")"
   ]
  },
  {
   "cell_type": "markdown",
   "id": "bf560102",
   "metadata": {},
   "source": [
    "## Calculation"
   ]
  },
  {
   "cell_type": "code",
   "execution_count": 16,
   "id": "89624758",
   "metadata": {},
   "outputs": [],
   "source": [
    "%%capture\n",
    "\n",
    "run = True\n",
    "print(\"Beginning calculation...\")\n",
    "\n",
    "for n in range(n_time):\n",
    "    if run:\n",
    "        u,v,vel,p,run = solve_cavity(u_lid,u,v,dt,dx,dy,p,rho,nu,nx,ny,nit)\n",
    "    else:\n",
    "        print(f\"Returning solution at t={n*dt:.3}...\")\n",
    "        print(\"Calculation failed.\")\n",
    "        break\n",
    "    \n",
    "    ## The code below just plots the intermediate result and saves it as a jpeg\n",
    "    ## It is probably more appropriate to save the raw solution data instead\n",
    "    ## But I wanted this code to be \"lightweight\" in terms of libraries i.e. avoid pandas\n",
    "    ## To-do... maybe I write a csv reader to package with this code\n",
    "    if n%n_save == 0:\n",
    "        \n",
    "        fig = plt.figure(figsize=(8,6),dpi=300)\n",
    "        ax = fig.add_axes([0, 0.05, 1, 0.9],aspect='equal')\n",
    "        \n",
    "        levels = np.linspace(0,u_lid,11)\n",
    "        ticks = np.linspace(0,u_lid,11)\n",
    "\n",
    "        plt.contourf(X,Y,vel,cmap='Spectral_r',levels=levels,extend='both')\n",
    "        plt.colorbar(ticks=ticks)\n",
    "\n",
    "        plt.quiver(X[::2,::2],Y[::2,::2],u[::2,::2],v[::2,::2])\n",
    "        \n",
    "        plt.xlabel('X')\n",
    "        plt.ylabel('Y')\n",
    "        \n",
    "        plt.title(str(count)+' cells, $u_{lid}$='+str(u_lid)+'m/s');\n",
    "        plt.savefig('result/result_'+str(n)+'.png')\n",
    "        plt.clf()\n",
    "        plt.close()\n",
    "        plt.close(fig)\n",
    "\n",
    "if run:\n",
    "    print(\"Calculation complete\")"
   ]
  },
  {
   "cell_type": "code",
   "execution_count": null,
   "id": "ab1d8e52",
   "metadata": {},
   "outputs": [],
   "source": [
    "writer = animation.PillowWriter(fps=10)\n",
    "n_frames = np.linspace(0,n_time-n_save,int(n_time/n_save))\n",
    "\n",
    "out = plt.figure(figsize=(8,6),dpi=300)\n",
    "out.add_axes([0, 0, 1, 1])\n",
    "\n",
    "def animate(i):\n",
    "    im = plt.imread('result/result_'+str(int(n_frames[i]))+'.png')\n",
    "    plt.imshow(im)\n",
    "    \n",
    "plt.axis('off')\n",
    "plt.rcParams['savefig.bbox'] = 'tight'\n",
    "\n",
    "anim = animation.FuncAnimation(out, animate, frames=len(n_frames), interval=1)\n",
    "anim.save('output.gif', writer=writer)"
   ]
  }
 ],
 "metadata": {
  "kernelspec": {
   "display_name": "Python 3 (ipykernel)",
   "language": "python",
   "name": "python3"
  },
  "language_info": {
   "codemirror_mode": {
    "name": "ipython",
    "version": 3
   },
   "file_extension": ".py",
   "mimetype": "text/x-python",
   "name": "python",
   "nbconvert_exporter": "python",
   "pygments_lexer": "ipython3",
   "version": "3.9.6"
  }
 },
 "nbformat": 4,
 "nbformat_minor": 5
}
