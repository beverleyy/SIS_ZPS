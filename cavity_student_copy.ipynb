{
 "cells": [
  {
   "cell_type": "markdown",
   "id": "88b4b4c0",
   "metadata": {},
   "source": [
    "# Lid-Driven Cavity\n",
    "\n",
    "This problem involves fluid in a square cavity with uniform velocity at the top."
   ]
  },
  {
   "cell_type": "code",
   "execution_count": null,
   "id": "b796f3c6",
   "metadata": {},
   "outputs": [],
   "source": [
    "## Import libraries\n",
    "## RUN THIS FIRST BEFORE ANYTHING ELSE\n",
    "\n",
    "global np\n",
    "import numpy as np\n",
    "\n",
    "from matplotlib import pyplot as plt\n",
    "from matplotlib import cm\n",
    "\n",
    "## Import functions\n",
    "from solvers import solve_cavity"
   ]
  },
  {
   "cell_type": "markdown",
   "id": "743a48f8",
   "metadata": {},
   "source": [
    "## Setting up the problem\n",
    "\n",
    "### Physical definition\n",
    "\n",
    "Where is the cavity and how wide/deep is it? In order for the solver to know this, we must specify its starting and ending points in both horizontal and vertical axes.\n",
    "\n",
    "`xmin` and `xmax` are, respectively, the starting and ending point of the cavity horizontally. `ymin` and `ymax` are the starting and ending points in the vertical axis. What is the length and depth of the cavity?"
   ]
  },
  {
   "cell_type": "code",
   "execution_count": null,
   "id": "7c4ec175",
   "metadata": {},
   "outputs": [],
   "source": [
    "## INPUT DOMAIN BOUNDARIES HERE\n",
    "xmin = \n",
    "xmax = \n",
    "ymin = \n",
    "ymax = \n",
    "\n",
    "print(\"Horizontal boundaries: \"+str(xmin)+\", \"+str(xmax))\n",
    "print(\"Vertical boundaries: \"+str(ymin)+\", \"+str(ymax))"
   ]
  },
  {
   "cell_type": "markdown",
   "id": "3e01bbec",
   "metadata": {},
   "source": [
    "### Discretization\n",
    "\n",
    "As discussed, we are going to break the large problem up into a bunch of small problems and combine them together. So, the big cavity needs to be split into small packets of fluids. But in order to do that, the code needs to know how many small packets of fluid we want.\n",
    "\n",
    "Here, `nx` refers to the number of coordinates in the horizontal axis, and `ny` refers to the number of coordinates in the vertical axis. A cell is formed by two coordinates in each of the horizontal and vertical axes (four points in total). So, the number of cells in total is `(nx-1)*(ny-1)`. \n",
    "\n",
    "`dx` and `dy` are therefore the width and height of each small fluid cell, since we take the total length/depth of the cavity and divide it by the number of spacings."
   ]
  },
  {
   "cell_type": "code",
   "execution_count": null,
   "id": "38d5a459",
   "metadata": {},
   "outputs": [],
   "source": [
    "# NUMBER OF GRID POINTS\n",
    "nx = \n",
    "ny = \n",
    "\n",
    "print(\"Number of horizontal grid points = \"+str(nx))\n",
    "print(\"Number of vertical grid points = \"+str(ny))"
   ]
  },
  {
   "cell_type": "code",
   "execution_count": null,
   "id": "4d63e8a0",
   "metadata": {},
   "outputs": [],
   "source": [
    "dx = (xmax-xmin)/(nx-1)\n",
    "dy = (ymax-ymin)/(ny-1)\n",
    "\n",
    "x = np.linspace(xmin,xmax,nx)\n",
    "y = np.linspace(ymin,ymax,ny)\n",
    "X,Y = np.meshgrid(x,y)\n",
    "\n",
    "fig = plt.figure()\n",
    "ax = fig.add_axes([0, 0, 1, 1],aspect='equal')\n",
    "ax.pcolor(X, Y, np.ones_like(Y), facecolor='none', edgecolor='k')\n",
    "\n",
    "plt.xlabel('X');\n",
    "plt.ylabel('Y');\n",
    "\n",
    "count = (nx-1)*(ny-1)\n",
    "\n",
    "print(f\"dx={dx}\")\n",
    "print(f\"dy={dy}\")\n",
    "print(\"Total number of cells = \"+str(count))"
   ]
  },
  {
   "cell_type": "markdown",
   "id": "327ee935",
   "metadata": {},
   "source": [
    "### Time\n",
    "\n",
    "`nt` is the amount of time progressed every step, while `n_time` is the total number of timesteps run. So, the total time simulated is `n_time*dt`. For example, if `dt=0.0001` and `n_time=10000`, the total flow time in the simulation will be 1s."
   ]
  },
  {
   "cell_type": "code",
   "execution_count": null,
   "id": "07344804",
   "metadata": {},
   "outputs": [],
   "source": [
    "## TOTAL NUMBER OF TIMESTEPS\n",
    "n_time = \n",
    "\n",
    "## EACH TIMESTEP\n",
    "dt = \n",
    "\n",
    "## CALCULATE TOTAL FLOW TIME\n",
    "total_time = dt*n_time\n",
    "\n",
    "## PRINT TOTAL FLOW TIME\n",
    "print(\"Total flow time: \"+str(total_time)+\" seconds\")"
   ]
  },
  {
   "cell_type": "markdown",
   "id": "4f14de9f",
   "metadata": {},
   "source": [
    "## Fluid properties\n",
    "\n",
    "Every fluid has different properties. For example, water is denser than air (per unit volume, it weighs more). Oil is more viscous than water (it appears \"thicker\" and flows slower). Hence, here we must set the correct properties for the fluid we are interested in.\n",
    "\n",
    "To keep the problem simple and the solver stable, we use a fictional fluid with a density of $\\rho=1$ kg/m<sup>3</sup> and a kinematic viscosity $\\nu=0.1$ m<sup>2</sup>/s. Both of these values can be changed to investigate different types of fluids. What is the density and kinematic viscosity of air or water?\n",
    "\n",
    "Lid speed is set to $u_\\text{lid}=10$m/s, although this can be changed."
   ]
  },
  {
   "cell_type": "code",
   "execution_count": null,
   "id": "e74d7d4c",
   "metadata": {},
   "outputs": [],
   "source": [
    "## DENSITY\n",
    "rho = 1\n",
    "\n",
    "## KINEMATIC VISCOSITY\n",
    "nu = 0.1\n",
    "\n",
    "## LID SPEED\n",
    "u_lid = \n",
    "\n",
    "print(\"Lid velocity = \"+str(u_lid)+\" m/s\")\n",
    "print(\"Density = \"+str(rho)+\" kg/m3\")\n",
    "print(\"Viscosity = \"+str(nu)+\" kg/ms\")"
   ]
  },
  {
   "cell_type": "markdown",
   "id": "9c80cb68",
   "metadata": {},
   "source": [
    "## Initialization\n",
    "\n",
    "To begin the solver, everything is set to zero everywhere so that we start on a clean slate without anything to influence the solver's calculations."
   ]
  },
  {
   "cell_type": "code",
   "execution_count": null,
   "id": "0641141d",
   "metadata": {},
   "outputs": [],
   "source": [
    "u = np.zeros((ny,nx))\n",
    "v = np.zeros((ny,nx))\n",
    "p = np.zeros((ny,nx))\n",
    "b = np.zeros((ny,nx))\n",
    "\n",
    "print(\"Solver initialized\")"
   ]
  },
  {
   "cell_type": "markdown",
   "id": "c509299d",
   "metadata": {},
   "source": [
    "## Calculation\n",
    "\n",
    "Starting from the first timestep, we run the solver `solve_cavity()` which solves the problem over all the grid points, then advances to the next timestep and repeat."
   ]
  },
  {
   "cell_type": "code",
   "execution_count": null,
   "id": "f92e9830",
   "metadata": {},
   "outputs": [],
   "source": [
    "run = True\n",
    "print(\"Beginning calculation...\")\n",
    "\n",
    "for n in range(n_time):    \n",
    "    if run:\n",
    "        u,v,vel,p,run = solve_cavity(u_lid,u,v,dt,dx,dy,p,rho,nu,nx,ny,20)\n",
    "    else:\n",
    "        print(f\"Returning solution at t={n*dt:.3}...\")\n",
    "        print(\"Calculation failed.\")\n",
    "        break\n",
    "\n",
    "print(\"Calculation complete\")"
   ]
  },
  {
   "cell_type": "markdown",
   "id": "74e8449b",
   "metadata": {},
   "source": [
    "## Result\n",
    "\n",
    "`u` and `v` are the components of the velocity vectors, and `p` is the pressure. Here we plot the velocity vectors on top of a colormap of the speed."
   ]
  },
  {
   "cell_type": "code",
   "execution_count": null,
   "id": "593e7992",
   "metadata": {},
   "outputs": [],
   "source": [
    "fig = plt.figure()\n",
    "ax = fig.add_axes([0,0,1,1],aspect='equal')\n",
    "\n",
    "levels = np.linspace(0,u_lid,11)\n",
    "ticks = np.linspace(0,u_lid,11)\n",
    "\n",
    "plt.contourf(X,Y,vel,cmap='Spectral_r',levels=levels,extend='both')\n",
    "plt.colorbar(ticks=ticks)\n",
    "\n",
    "plt.quiver(X[::2,::2],Y[::2,::2],u[::2,::2],v[::2,::2])\n",
    "\n",
    "plt.xlabel('X')\n",
    "plt.ylabel('Y')\n",
    "\n",
    "plt.title(str(count)+' cells, t='+str(n_time)+', $u_{lid}$='+str(u_lid)+'m/s');\n",
    "plt.savefig('result_'+str(n_time)+'_'+str(count)+'_'+str(u_lid)+'.png',bbox_inches=\"tight\")"
   ]
  }
 ],
 "metadata": {
  "kernelspec": {
   "display_name": "Python 3 (ipykernel)",
   "language": "python",
   "name": "python3"
  },
  "language_info": {
   "codemirror_mode": {
    "name": "ipython",
    "version": 3
   },
   "file_extension": ".py",
   "mimetype": "text/x-python",
   "name": "python",
   "nbconvert_exporter": "python",
   "pygments_lexer": "ipython3",
   "version": "3.9.6"
  }
 },
 "nbformat": 4,
 "nbformat_minor": 5
}
